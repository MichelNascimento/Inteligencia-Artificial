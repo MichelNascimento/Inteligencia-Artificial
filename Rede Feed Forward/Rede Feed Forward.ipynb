{
 "cells": [
  {
   "cell_type": "code",
   "execution_count": 2,
   "id": "2fbdc019",
   "metadata": {},
   "outputs": [],
   "source": [
    "from __future__ import division\n",
    "from collections import Counter\n",
    "from functools import partial\n",
    "from linear_algebra import dot\n",
    "import math, random"
   ]
  },
  {
   "cell_type": "code",
   "execution_count": 3,
   "id": "c8d9156c",
   "metadata": {},
   "outputs": [],
   "source": [
    "def step_function(x):\n",
    "    return 1 if x >= 0 else 0"
   ]
  },
  {
   "cell_type": "code",
   "execution_count": 4,
   "id": "c40fb098",
   "metadata": {},
   "outputs": [],
   "source": [
    "def neuron_output(weights, inputs):\n",
    "    calculation = dot(weights, inputs)\n",
    "    return step_function(calculation)"
   ]
  },
  {
   "cell_type": "code",
   "execution_count": 17,
   "id": "a63837f9",
   "metadata": {},
   "outputs": [],
   "source": [
    "def feed_forward(neural_network, input_vector):\n",
    "    outputs = []\n",
    "    for layer in neural_network:\n",
    "        input_with_bias = input_vector + [1]\n",
    "        output = [neuron_output(neuron, input_with_bias)\n",
    "                 for neuron in layer]\n",
    "        input_vector = output\n",
    "        outputs.append(output)  # Adicione os resultados intermediários à lista de saída\n",
    "    return outputs"
   ]
  },
  {
   "cell_type": "code",
   "execution_count": 18,
   "id": "a5a5141c",
   "metadata": {},
   "outputs": [],
   "source": [
    "xor_network = [\n",
    "    [[1, 1, -1.5],\n",
    "    [1, 1, -0.5]],\n",
    "    [[-2, 1, -0.5]]]"
   ]
  },
  {
   "cell_type": "code",
   "execution_count": 19,
   "id": "3a0102c3",
   "metadata": {},
   "outputs": [
    {
     "name": "stdout",
     "output_type": "stream",
     "text": [
      "0 EXCLUSIVO 0 = [0]\n",
      "0 EXCLUSIVO 1 = [1]\n",
      "1 EXCLUSIVO 0 = [1]\n",
      "1 EXCLUSIVO 1 = [0]\n"
     ]
    }
   ],
   "source": [
    "for x in [0, 1]:\n",
    "    for y in [0, 1]:\n",
    "        print(x, \"EXCLUSIVO\", y, \"=\", feed_forward(xor_network, [x, y])[-1])"
   ]
  },
  {
   "cell_type": "code",
   "execution_count": null,
   "id": "49b4938b",
   "metadata": {},
   "outputs": [],
   "source": []
  },
  {
   "cell_type": "code",
   "execution_count": 20,
   "id": "0a5af636",
   "metadata": {},
   "outputs": [],
   "source": [
    "def sigmoid(t):\n",
    "    return 1 / (1 + math.exp(-t))"
   ]
  },
  {
   "cell_type": "code",
   "execution_count": 21,
   "id": "5c7b074f",
   "metadata": {},
   "outputs": [],
   "source": [
    "def neuron_output(weights, inputs):\n",
    "    return sigmoid(dot(weights, inputs))"
   ]
  },
  {
   "cell_type": "code",
   "execution_count": 28,
   "id": "be24e5f6",
   "metadata": {},
   "outputs": [],
   "source": [
    "def feed_forward(neural_network, input_vector):\n",
    "    outputs = []\n",
    "    for layer in neural_network:\n",
    "        input_with_bias = input_vector + [1]\n",
    "        output = [neuron_output(neuron, input_with_bias)\n",
    "                 for neuron in layer]\n",
    "        outputs.append(output)\n",
    "        input_vector = output\n",
    "    return outputs"
   ]
  },
  {
   "cell_type": "code",
   "execution_count": 29,
   "id": "16521ecc",
   "metadata": {},
   "outputs": [],
   "source": [
    "xor_network = [\n",
    "    [[20, 20, -30],\n",
    "    [20, 20, -10]],\n",
    "    [[-60, 60, -30]]]"
   ]
  },
  {
   "cell_type": "code",
   "execution_count": 30,
   "id": "a68d4d43",
   "metadata": {},
   "outputs": [
    {
     "name": "stdout",
     "output_type": "stream",
     "text": [
      "0 0 [9.38314668300676e-14]\n",
      "0 1 [0.9999999999999059]\n",
      "1 0 [0.9999999999999059]\n",
      "1 1 [9.383146683006828e-14]\n"
     ]
    }
   ],
   "source": [
    "for x in [0, 1]:\n",
    "    for y in [0, 1]:\n",
    "        print(x, y, feed_forward(xor_network, [x, y])[-1])"
   ]
  },
  {
   "cell_type": "code",
   "execution_count": null,
   "id": "3e7230f4",
   "metadata": {},
   "outputs": [],
   "source": []
  }
 ],
 "metadata": {
  "kernelspec": {
   "display_name": "Python 3 (ipykernel)",
   "language": "python",
   "name": "python3"
  },
  "language_info": {
   "codemirror_mode": {
    "name": "ipython",
    "version": 3
   },
   "file_extension": ".py",
   "mimetype": "text/x-python",
   "name": "python",
   "nbconvert_exporter": "python",
   "pygments_lexer": "ipython3",
   "version": "3.9.13"
  }
 },
 "nbformat": 4,
 "nbformat_minor": 5
}
